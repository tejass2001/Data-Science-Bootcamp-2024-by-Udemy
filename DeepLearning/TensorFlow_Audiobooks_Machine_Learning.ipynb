{
 "cells": [
  {
   "cell_type": "markdown",
   "metadata": {},
   "source": [
    "## Create the machine learning algorithm\n",
    "\n"
   ]
  },
  {
   "cell_type": "markdown",
   "metadata": {},
   "source": [
    "### Import the relevant libraries"
   ]
  },
  {
   "cell_type": "code",
   "execution_count": 1,
   "metadata": {},
   "outputs": [],
   "source": [
    "# we must import the libraries once again since we haven't imported them in this file\n",
    "import numpy as np\n",
    "import tensorflow as tf"
   ]
  },
  {
   "cell_type": "markdown",
   "metadata": {},
   "source": [
    "### Data"
   ]
  },
  {
   "cell_type": "code",
   "execution_count": 2,
   "metadata": {},
   "outputs": [],
   "source": [
    "# let's create a temporary variable npz, where we will store each of the three Audiobooks datasets\n",
    "npz = np.load('files/Audiobooks_data_train.npz')\n",
    "\n",
    "# we extract the inputs using the keyword under which we saved them\n",
    "# to ensure that they are all floats, let's also take care of that\n",
    "train_inputs = npz['inputs'].astype(np.float)\n",
    "# targets must be int because of sparse_categorical_crossentropy (we want to be able to smoothly one-hot encode them)\n",
    "train_targets = npz['targets'].astype(np.int)\n",
    "\n",
    "# we load the validation data in the temporary variable\n",
    "npz = np.load('files/Audiobooks_data_validation.npz')\n",
    "# we can load the inputs and the targets in the same line\n",
    "validation_inputs, validation_targets = npz['inputs'].astype(np.float), npz['targets'].astype(np.int)\n",
    "\n",
    "# we load the test data in the temporary variable\n",
    "npz = np.load('files/Audiobooks_data_test.npz')\n",
    "# we create 2 variables that will contain the test inputs and the test targets\n",
    "test_inputs, test_targets = npz['inputs'].astype(np.float), npz['targets'].astype(np.int)"
   ]
  },
  {
   "cell_type": "markdown",
   "metadata": {},
   "source": [
    "### Model"
   ]
  },
  {
   "cell_type": "code",
   "execution_count": 10,
   "metadata": {},
   "outputs": [
    {
     "name": "stdout",
     "output_type": "stream",
     "text": [
      "Train on 3579 samples, validate on 447 samples\n",
      "Epoch 1/100\n",
      "3579/3579 - 2s - loss: 0.6039 - accuracy: 0.6996 - val_loss: 0.4557 - val_accuracy: 0.8635\n",
      "Epoch 2/100\n",
      "3579/3579 - 0s - loss: 0.3958 - accuracy: 0.8673 - val_loss: 0.3478 - val_accuracy: 0.8747\n",
      "Epoch 3/100\n",
      "3579/3579 - 0s - loss: 0.3275 - accuracy: 0.8799 - val_loss: 0.3244 - val_accuracy: 0.8747\n",
      "Epoch 4/100\n",
      "3579/3579 - 0s - loss: 0.3021 - accuracy: 0.8877 - val_loss: 0.3097 - val_accuracy: 0.8747\n",
      "Epoch 5/100\n",
      "3579/3579 - 0s - loss: 0.2869 - accuracy: 0.8910 - val_loss: 0.3043 - val_accuracy: 0.8814\n",
      "Epoch 6/100\n",
      "3579/3579 - 0s - loss: 0.2767 - accuracy: 0.8944 - val_loss: 0.2989 - val_accuracy: 0.8859\n",
      "Epoch 7/100\n",
      "3579/3579 - 0s - loss: 0.2673 - accuracy: 0.8980 - val_loss: 0.2957 - val_accuracy: 0.8859\n",
      "Epoch 8/100\n",
      "3579/3579 - 0s - loss: 0.2617 - accuracy: 0.8980 - val_loss: 0.2983 - val_accuracy: 0.8881\n",
      "Epoch 9/100\n",
      "3579/3579 - 0s - loss: 0.2592 - accuracy: 0.9016 - val_loss: 0.2891 - val_accuracy: 0.8904\n",
      "Epoch 10/100\n",
      "3579/3579 - 0s - loss: 0.2538 - accuracy: 0.9025 - val_loss: 0.2902 - val_accuracy: 0.8926\n",
      "Epoch 11/100\n",
      "3579/3579 - 0s - loss: 0.2537 - accuracy: 0.9033 - val_loss: 0.2858 - val_accuracy: 0.8949\n",
      "Epoch 12/100\n",
      "3579/3579 - 0s - loss: 0.2470 - accuracy: 0.9050 - val_loss: 0.2861 - val_accuracy: 0.8926\n",
      "Epoch 13/100\n",
      "3579/3579 - 0s - loss: 0.2446 - accuracy: 0.9064 - val_loss: 0.2868 - val_accuracy: 0.8949\n"
     ]
    },
    {
     "data": {
      "text/plain": [
       "<tensorflow.python.keras.callbacks.History at 0x29a6b2318c8>"
      ]
     },
     "execution_count": 10,
     "metadata": {},
     "output_type": "execute_result"
    }
   ],
   "source": [
    "input_size = 10\n",
    "output_size = 2\n",
    "hidden_layer_size = 50\n",
    "\n",
    "# Model contains 2 hidden layers with 50 nodes each\n",
    "model = tf.keras.Sequential([\n",
    "    tf.keras.layers.Dense(hidden_layer_size, activation=\"relu\"),\n",
    "    tf.keras.layers.Dense(hidden_layer_size, activation=\"relu\"),\n",
    "    tf.keras.layers.Dense(output_size, activation=\"softmax\")\n",
    "])\n",
    "\n",
    "# Compile the model\n",
    "model.compile(optimizer=\"adam\", loss=\"sparse_categorical_crossentropy\", metrics=['accuracy'])\n",
    "\n",
    "batch_size = 100\n",
    "max_epochs = 100\n",
    "\n",
    "# Default model tries to overfit...So need mechanism for early stop\n",
    "# model.fit(train_inputs, \n",
    "#           train_targets, \n",
    "#           batch_size=batch_size, \n",
    "#           epochs=max_epochs,\n",
    "#           validation_data = (validation_inputs, validation_targets),\n",
    "#           verbose=2)\n",
    "\n",
    "early_stopping = tf.keras.callbacks.EarlyStopping(patience=2)\n",
    "\n",
    "model.fit(train_inputs, \n",
    "          train_targets, \n",
    "          batch_size=batch_size, \n",
    "          epochs=max_epochs,\n",
    "          callbacks=[early_stopping],\n",
    "          validation_data = (validation_inputs, validation_targets),\n",
    "          verbose=2,)"
   ]
  },
  {
   "cell_type": "markdown",
   "metadata": {},
   "source": [
    "### Test the model"
   ]
  },
  {
   "cell_type": "code",
   "execution_count": 11,
   "metadata": {},
   "outputs": [
    {
     "name": "stdout",
     "output_type": "stream",
     "text": [
      "448/448 [==============================] - 0s 337us/sample - loss: 0.2710 - accuracy: 0.8996\n"
     ]
    }
   ],
   "source": [
    "test_loss, test_accuracy = model.evaluate(test_inputs, test_targets)"
   ]
  },
  {
   "cell_type": "code",
   "execution_count": 12,
   "metadata": {},
   "outputs": [
    {
     "name": "stdout",
     "output_type": "stream",
     "text": [
      "Test Loss: 0.27, Test Accuracy: 89.96%\n"
     ]
    }
   ],
   "source": [
    "print(\"Test Loss: {0:.2f}, Test Accuracy: {1:.2f}%\".format(test_loss, test_accuracy*100.))"
   ]
  }
 ],
 "metadata": {
  "kernelspec": {
   "display_name": "Python [conda env:py3-TF2.0] *",
   "language": "python",
   "name": "conda-env-py3-TF2.0-py"
  },
  "language_info": {
   "codemirror_mode": {
    "name": "ipython",
    "version": 3
   },
   "file_extension": ".py",
   "mimetype": "text/x-python",
   "name": "python",
   "nbconvert_exporter": "python",
   "pygments_lexer": "ipython3",
   "version": "3.7.7"
  }
 },
 "nbformat": 4,
 "nbformat_minor": 2
}
